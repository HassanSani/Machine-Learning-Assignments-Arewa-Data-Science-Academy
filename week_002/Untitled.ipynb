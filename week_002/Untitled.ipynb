{
 "cells": [
  {
   "cell_type": "markdown",
   "id": "738bd991",
   "metadata": {},
   "source": [
    "# Covid 19 Estimation"
   ]
  },
  {
   "cell_type": "markdown",
   "id": "8c660e50",
   "metadata": {},
   "source": [
    "## Loading Data\n",
    "The Covid 19 Data used here was provided by the Center for System Engineering of the John Hopkins University."
   ]
  },
  {
   "cell_type": "code",
   "execution_count": 2,
   "id": "13450df6",
   "metadata": {},
   "outputs": [],
   "source": [
    "import numpy as np\n",
    "import pandas as pd\n",
    "import matplotlib.pyplot as plt\n",
    "plt.rcParams[\"figure.figsize\"] = 10,3 #this makes figures larger"
   ]
  },
  {
   "cell_type": "code",
   "execution_count": 4,
   "id": "c38f96e4",
   "metadata": {},
   "outputs": [
    {
     "ename": "SyntaxError",
     "evalue": "(unicode error) 'unicodeescape' codec can't decode bytes in position 2-3: truncated \\UXXXXXXXX escape (1140735834.py, line 2)",
     "output_type": "error",
     "traceback": [
      "\u001b[1;36m  Cell \u001b[1;32mIn[4], line 2\u001b[1;36m\u001b[0m\n\u001b[1;33m    base_url = \"C:\\Users\\user\\Desktop\\ML-4-Beginners-Arewa-Datascience-main\\2-Working-With-Data\\07-python\\notebook-covidspread.ipynb\"\u001b[0m\n\u001b[1;37m                                                                                                                                     ^\u001b[0m\n\u001b[1;31mSyntaxError\u001b[0m\u001b[1;31m:\u001b[0m (unicode error) 'unicodeescape' codec can't decode bytes in position 2-3: truncated \\UXXXXXXXX escape\n"
     ]
    }
   ],
   "source": [
    "## Loading Data from the local directory\n",
    "base_url = \"C:\\Users\\user\\Desktop\\ML-4-Beginners-Arewa-Datascience-main\\2-Working-With-Data\\07-python\\notebook-covidspread.ipynb\"\n",
    "infected_dataset_url = base_url + \"time_series_covid19_confirmed_global.csv\"\n",
    "recovered_dataset_url = base_url + \"time_series_covid19_recovered_global.csv\"\n",
    "deaths_dataset_url = base_url + \"time_series_covid19_deaths_global.csv\"\n",
    "countries_dataset_url = base_url + \"../UID_ISO_FIPS_LookUp_Table.csv\""
   ]
  },
  {
   "cell_type": "code",
   "execution_count": null,
   "id": "e5cfff27",
   "metadata": {},
   "outputs": [],
   "source": []
  }
 ],
 "metadata": {
  "kernelspec": {
   "display_name": "Python 3 (ipykernel)",
   "language": "python",
   "name": "python3"
  },
  "language_info": {
   "codemirror_mode": {
    "name": "ipython",
    "version": 3
   },
   "file_extension": ".py",
   "mimetype": "text/x-python",
   "name": "python",
   "nbconvert_exporter": "python",
   "pygments_lexer": "ipython3",
   "version": "3.10.9"
  }
 },
 "nbformat": 4,
 "nbformat_minor": 5
}
