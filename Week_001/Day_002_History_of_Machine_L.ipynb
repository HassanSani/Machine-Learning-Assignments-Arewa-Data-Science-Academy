{
 "cells": [
  {
   "cell_type": "raw",
   "id": "b7614a22",
   "metadata": {},
   "source": [
    "History of Machine Learning\n",
    "\n",
    "The history of artificial intelligence (AI) as a field is intertwined with the history of machine learning, \n",
    "as the algorithms and computational advances that underpin ML fed into the development of AI. It is useful to \n",
    "remember that, while these fields as distinct areas of inquiry began to crystallize in the 1950s, important algorithmic, \n",
    "statistical, mathematical, computational and technical discoveries predated and overlapped this era. In fact, people have\n",
    "been thinking about these questions for hundreds of years: this article discusses the historical intellectual underpinnings\n",
    "of the idea of a 'thinking machine.'"
   ]
  },
  {
   "cell_type": "raw",
   "id": "8e19307c",
   "metadata": {},
   "source": [
    "*Notable discoveries*\n",
    "1763, 1812 Bayes Theorem and its predecessors. This theorem and its applications underlie inference, describing the probability of an event occurring based on prior knowledge.\n",
    "\n",
    "1805 Least Square Theory by French mathematician Adrien-Marie Legendre. This theory, which you will learn about in our Regression unit, helps in data fitting.\n",
    "1913 Markov Chains, named after Russian mathematician Andrey Markov, is used to describe a sequence of possible events based on a previous state.\n",
    "\n",
    "1957 Perceptron is a type of linear classifier invented by American psychologist Frank Rosenblatt that underlies advances in deep learning.\n",
    "\n",
    "1967 Nearest Neighbor is an algorithm originally designed to map routes. In an ML context it is used to detect patterns.\n",
    "\n",
    "1970 Backpropagation is used to train feedforward neural networks.\n",
    "\n",
    "1982 Recurrent Neural Networks are artificial neural networks derived from feedforward neural networks that create temporal graphs."
   ]
  },
  {
   "cell_type": "raw",
   "id": "45444761",
   "metadata": {},
   "source": [
    "#1950: Machines that think#\n",
    "\n",
    "Alan Turing, a truly remarkable person who was voted by the public in 2019 as the greatest scientist of the 20th century,\n",
    "is credited as helping to lay the foundation for the concept of a 'machine that can think.' He grappled with naysayers\n",
    "and his own need for empirical evidence of this concept in part by creating the Turing Test, which you will explore in our\n",
    "NLP lessons.\n",
    "\n",
    "1956: Dartmouth Summer Research Project\n",
    "\"The Dartmouth Summer Research Project on artificial intelligence was a seminal event for artificial intelligence\n",
    "as a field,\" and it was here that the term 'artificial intelligence' was coined (source).\n",
    "\n",
    "Every aspect of learning or any other feature of intelligence can in principle be so precisely described that a machine\n",
    "can be made to simulate it.\n",
    "\n",
    "The lead researcher, mathematics professor John McCarthy, hoped \"to proceed on the basis of the conjecture that every aspect of learning or any other feature of intelligence can in principle be so precisely described that a machine can be made to simulate it.\" The participants included another luminary in the field, Marvin Minsky.\n",
    "\n",
    "The workshop is credited with having initiated and encouraged several discussions including \"the rise of symbolic methods, systems focussed on limited domains (early expert systems), and deductive systems versus inductive systems.\"\n",
    "\n",
    "\n",
    "1956 - 1974: \"The golden years\"\n",
    "\n",
    "From the 1950s through the mid '70s, optimism ran high in the hope that AI could solve many problems. In 1967, Marvin Minsky stated confidently that \"Within a generation ... the problem of creating 'artificial intelligence' will substantially be solved.\" (Minsky, Marvin (1967), Computation: Finite and Infinite Machines, Englewood Cliffs, N.J.: Prentice-Hall) natural language processing research flourished, search was refined and made more powerful, and the concept of 'micro-worlds' was created, where simple tasks were completed using plain language instructions.\n",
    "\n",
    "Research was well funded by government agencies, advances were made in computation and algorithms, and prototypes of intelligent machines were built. Some of these machines include:\n",
    "\n",
    "1. Shakey the robot, who could maneuver and decide how to perform tasks 'intelligently'\n",
    "2. Eliza, an early 'chatterbot', could converse with people and act as a primitive 'therapist'. You'll learn more about Eliza in the NLP lessons.\n",
    "3. Blocks world\" was an example of a micro-world where blocks could be stacked and sorted, and experiments in teaching machines to make decisions could be tested. Advances built with libraries such as SHRDLU helped propel language processing forward.\n"
   ]
  },
  {
   "cell_type": "raw",
   "id": "de6cbb63",
   "metadata": {},
   "source": [
    "1974 - 1980: \"AI Winter\"\n",
    "\n",
    "By the mid 1970s, it had become apparent that the complexity of making 'intelligent machines' had been understated and that its promise, given the available compute power, had been overblown. Funding dried up and confidence in the field slowed. Some issues that impacted confidence included:\n",
    "\n",
    "1. Limitations. Compute power was too limited.\n",
    "Combinatorial explosion. The amount of parameters needed to be trained grew exponentially as more was asked of computers, without a parallel evolution of compute power and capability.\n",
    "\n",
    "2. Paucity of data. There was a paucity of data that hindered the process of testing, developing, and refining algorithms.\n",
    "\n",
    "3. Are we asking the right questions?. The very questions that were being asked began to be questioned. Researchers began to field criticism about their approaches:\n",
    "   a. Turing tests came into question by means, among other ideas, of the 'chinese room theory' which posited that,\n",
    "    \"programming a digital computer may make it appear to understand language but could not produce real understanding.\"\n",
    "   b. The ethics of introducing artificial intelligences such as the \"therapist\" ELIZA into society was challenged.\n",
    "At the same time, various AI schools of thought began to form. A dichotomy was established between \"scruffy\" vs. \"neat AI\" practices. Scruffy labs tweaked programs for hours until they had the desired results. Neat labs \"focused on logic and formal problem solving\". ELIZA and SHRDLU were well-known scruffy systems. In the 1980s, as demand emerged to make ML systems reproducible, the neat approach gradually took the forefront as its results are more explainable."
   ]
  },
  {
   "cell_type": "raw",
   "id": "3d22b3d0",
   "metadata": {},
   "source": [
    "1980s Expert systems\n",
    "\n",
    "As the field grew, its benefit to business became clearer, and in the 1980s so did the proliferation of 'expert systems'. \"Expert systems were among the first truly successful forms of artificial intelligence (AI) software.\" (source).\n",
    "\n",
    "This type of system is actually hybrid, consisting partially of a rules engine defining business requirements, and an inference engine that leveraged the rules system to deduce new facts.\n",
    "\n",
    "This era also saw increasing attention paid to neural networks.\n",
    "\n",
    "\n",
    "1987 - 1993: AI 'Chill'\n",
    "\n",
    "The proliferation of specialized expert systems hardware had the unfortunate effect of becoming too specialized. The rise of personal computers also competed with these large, specialized, centralized systems. The democratization of computing had begun, and it eventually paved the way for the modern explosion of big data.\n",
    "\n",
    "\n",
    "1993 - 2011\n",
    "This epoch saw a new era for ML and AI to be able to solve some of the problems that had been caused earlier by the lack of data and compute power. The amount of data began to rapidly increase and become more widely available, for better and for worse, especially with the advent of the smartphone around 2007. Compute power expanded exponentially, and algorithms evolved alongside. The field began to gain maturity as the freewheeling days of the past began to crystallize into a true discipline.\n",
    "\n",
    "\n",
    "Now\n",
    "Today machine learning and AI touch almost every part of our lives. This era calls for careful understanding of the risks and potentials effects of these algorithms on human lives. As Microsoft's Brad Smith has stated, \"Information technology raises issues that go to the heart of fundamental human-rights protections like privacy and freedom of expression. These issues heighten responsibility for tech companies that create these products. In our view, they also call for thoughtful government regulation and for the development of norms around acceptable uses.\n",
    "\n",
    "It remains to be seen what the future holds, but it is important to understand these computer systems and the software and algorithms that they run. We hope that this curriculum will help you to gain a better understanding so that you can decide for yourself.\n",
    "\n"
   ]
  }
 ],
 "metadata": {
  "kernelspec": {
   "display_name": "Python 3 (ipykernel)",
   "language": "python",
   "name": "python3"
  },
  "language_info": {
   "codemirror_mode": {
    "name": "ipython",
    "version": 3
   },
   "file_extension": ".py",
   "mimetype": "text/x-python",
   "name": "python",
   "nbconvert_exporter": "python",
   "pygments_lexer": "ipython3",
   "version": "3.10.9"
  }
 },
 "nbformat": 4,
 "nbformat_minor": 5
}
